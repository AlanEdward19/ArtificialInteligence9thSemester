{
 "nbformat": 4,
 "nbformat_minor": 0,
 "metadata": {
  "colab": {
   "provenance": [],
   "collapsed_sections": [
    "kdSGS4brHnAi",
    "joN9pvZJIfW5"
   ]
  },
  "kernelspec": {
   "display_name": "Python 3 (ipykernel)",
   "name": "python3",
   "language": "python"
  }
 },
 "cells": [
  {
   "cell_type": "markdown",
   "metadata": {
    "id": "Cs9E_R5yD48u"
   },
   "source": [
    "# **AC \\#1**: Inteligência Artificial\n",
    "Facens - Sorocaba\n",
    "\n",
    "Prof. Adson Nogueira Alves\n",
    "\n",
    "E-mail adson.alves@facens.br\n",
    "\n"
   ]
  },
  {
   "cell_type": "code",
   "metadata": {
    "id": "tFS9Oum_RJX9"
   },
   "source": [
    "# TODO: RA & Name\n",
    "print('210184: ' + 'Alan Edward da Silva Oliveira')"
   ],
   "execution_count": null,
   "outputs": []
  },
  {
   "cell_type": "markdown",
   "metadata": {
    "id": "IVGH2s7fD_03"
   },
   "source": [
    "## Objetivo: Prever as taxas de mortalidade por câncer para os condados dos EUA.\n",
    "\n",
    "Explore alternativas de **regressão linear** e desenvolva o melhor modelo possível para os problemas, evitando o overfitting. Em particular, preveja a **TARGET_deathRate** a partir de seus atributos."
   ]
  },
  {
   "cell_type": "markdown",
   "source": [
    "## Conjunto de Dados\n",
    "\n",
    "Esses dados foram agregados de várias fontes, incluindo o American Community Survey (census.gov), clinicaltrials.gov e cancer.gov.\n",
    "\n",
    "O conjunto de dados contém a taxa de mortalidade e os atributos de 3.047 condados.\n",
    "\n",
    "Informações do Conjunto de Dados: Você deve respeitar a seguinte divisão treino/teste: 2042 exemplos de treino e 305 exemplos de teste.\n",
    "\n",
    "Existem 33 atributos, conforme segue:\n",
    "\n",
    "Dicionário de Dados\n",
    "\n",
    "1: avgAnnCount: Número médio de casos reportados de câncer diagnosticados anualmente (a)\n",
    "\n",
    "2: avgDeathsPerYear: Número médio de mortes reportadas devido ao câncer (a)\n",
    "\n",
    "3: incidenceRate: Taxa média de diagnósticos de câncer per capita (100.000) (a)\n",
    "\n",
    "4: medianIncome: Renda média por condado (b)\n",
    "\n",
    "5: popEst2015: População do condado (b)\n",
    "\n",
    "6: povertyPercent: Percentual da população em situação de pobreza (b)\n",
    "\n",
    "7: studyPerCap: Número per capita de ensaios clínicos relacionados ao câncer por condado (a)\n",
    "\n",
    "8: binnedInc: Renda média per capita agrupada por decil (b)\n",
    "\n",
    "9: MedianAge: Idade média dos residentes do condado (b)\n",
    "\n",
    "10: MedianAgeMale: Idade média dos residentes masculinos do condado (b)\n",
    "\n",
    "11: MedianAgeFemale: Idade média dos residentes femininos do condado (b)\n",
    "\n",
    "12: Geography: Nome do condado (b)\n",
    "\n",
    "13: AvgHouseholdSize: Tamanho médio dos lares no condado (b)\n",
    "\n",
    "14: PercentMarried: Percentual de residentes do condado casados (b)\n",
    "\n",
    "15: PctNoHS18_24: Percentual de residentes do condado com idades entre 18-24 anos que atingiram o ensino médio ou menos (b)\n",
    "\n",
    "16: PctHS18_24: Percentual de residentes do condado com idades entre 18-24 anos que atingiram o diploma de ensino médio (b)\n",
    "\n",
    "17: PctSomeCol18_24: Percentual de residentes do condado com idades entre 18-24 anos que atingiram algum nível de educação universitária (b)\n",
    "\n",
    "18: PctBachDeg18_24: Percentual de residentes do condado com idades entre 18-24 anos que atingiram o diploma de bacharel (b)\n",
    "\n",
    "19: PctHS25_Over: Percentual de residentes do condado com idades acima de 25 anos que atingiram o diploma de ensino médio (b)\n",
    "\n",
    "20: PctBachDeg25_Over: Percentual de residentes do condado com idades acima de 25 anos que atingiram o diploma de bacharel (b)\n",
    "\n",
    "21: PctEmployed16_Over: Percentual de residentes do condado com idades acima de 16 anos empregados (b)\n",
    "\n",
    "22: PctUnemployed16_Over: Percentual de residentes do condado com idades acima de 16 anos desempregados (b)\n",
    "\n",
    "23: PctPrivateCoverage: Percentual de residentes do condado com cobertura de saúde privada (b)\n",
    "\n",
    "24: PctPrivateCoverageAlone: Percentual de residentes do condado com cobertura de saúde privada apenas (sem assistência pública) (b)\n",
    "\n",
    "25: PctEmpPrivCoverage: Percentual de residentes do condado com cobertura de saúde privada fornecida por empregador (b)\n",
    "\n",
    "26: PctPublicCoverage: Percentual de residentes do condado com cobertura de saúde pública (b)\n",
    "\n",
    "27: PctPubliceCoverageAlone: Percentual de residentes do condado com cobertura de saúde pública apenas (b)\n",
    "\n",
    "28: PctWhite: Percentual de residentes do condado que se identificam como brancos (b)\n",
    "\n",
    "29: PctBlack: Percentual de residentes do condado que se identificam como negros (b)\n",
    "\n",
    "30: PctAsian: Percentual de residentes do condado que se identificam como asiáticos (b)\n",
    "\n",
    "31: PctOtherRace: Percentual de residentes do condado que se identificam como pertencentes a outras etnias que não brancos, negros ou asiáticos (b)\n",
    "\n",
    "32: PctMarriedHouseholds: Percentual de lares casados (b)\n",
    "\n",
    "33: BirthRate: Número de nascimentos vivos relativo ao número de mulheres no condado (b)\n",
    "\n",
    "TARGET_deathRate: Variável dependente. Taxa média de mortalidade por câncer per capita (100.000) (a)\n",
    "\n",
    "(a): anos de 2010 a 2016\n",
    "\n",
    "(b): Estimativas do Censo de 2013\n",
    "\n",
    "Os dados estão disponíveis em:\n",
    "\n",
    "treino: https://docs.google.com/spreadsheets/d/1mglppL3qIhx5Osp2wsoENN3HPnGpzkcaFpw7i9nsTvQ/edit?usp=sharing\n",
    "\n",
    "teste: https://docs.google.com/spreadsheets/d/1AuNcBH2c7hDEE1WScZIcbiH16fTr66C19S29d5uGnfo/edit?usp=sharing"
   ],
   "metadata": {
    "id": "3-vucFoNa3Fc"
   }
  },
  {
   "metadata": {},
   "cell_type": "markdown",
   "source": "# AC1"
  },
  {
   "metadata": {},
   "cell_type": "markdown",
   "source": "## Importações"
  },
  {
   "metadata": {
    "ExecuteTime": {
     "end_time": "2025-03-20T19:20:48.750320Z",
     "start_time": "2025-03-20T19:20:48.746198Z"
    }
   },
   "cell_type": "code",
   "source": [
    "#Importando bibliotecas necessárias\n",
    "\n",
    "import pandas as pd\n",
    "import matplotlib.pyplot as plt\n",
    "from sklearn.preprocessing import StandardScaler\n",
    "import numpy as np\n",
    "from sklearn.linear_model import LinearRegression\n",
    "from sklearn.linear_model import SGDRegressor\n",
    "from sklearn.metrics import mean_absolute_error, mean_squared_error, r2_score\n",
    "\n",
    "from sklearn.model_selection import train_test_split\n",
    "from sklearn.preprocessing import LabelEncoder\n",
    "\n",
    "from sklearn.neighbors import KNeighborsClassifier\n",
    "from sklearn.tree import DecisionTreeClassifier, plot_tree\n",
    "from sklearn.tree import export_text\n",
    "\n",
    "from sklearn.metrics import accuracy_score, confusion_matrix, ConfusionMatrixDisplay,precision_score\n"
   ],
   "outputs": [],
   "execution_count": 110
  },
  {
   "metadata": {},
   "cell_type": "markdown",
   "source": "## Funções"
  },
  {
   "metadata": {
    "ExecuteTime": {
     "end_time": "2025-03-20T19:24:23.460265Z",
     "start_time": "2025-03-20T19:24:23.455831Z"
    }
   },
   "cell_type": "code",
   "source": [
    "def replace_null_values(data):\n",
    "    for column in data.columns:\n",
    "        if pd.api.types.is_numeric_dtype(data[column]):\n",
    "            data[column] = data[column].fillna(data[column].mean())\n",
    "    return data\n",
    "\n",
    "def evaluate_model(model, X_test, y_test):\n",
    "    y_pred = model.predict(X_test)\n",
    "    mae = mean_absolute_error(y_test, y_pred)\n",
    "    mse = mean_squared_error(y_test, y_pred)\n",
    "    r2 = r2_score(y_test, y_pred)\n",
    "\n",
    "    return {\"MAE\": mae, \"MSE\": mse, \"R²\": r2}"
   ],
   "outputs": [],
   "execution_count": 114
  },
  {
   "metadata": {},
   "cell_type": "markdown",
   "source": "Importar datasets"
  },
  {
   "metadata": {
    "ExecuteTime": {
     "end_time": "2025-03-20T19:24:26.207830Z",
     "start_time": "2025-03-20T19:24:26.191800Z"
    }
   },
   "cell_type": "code",
   "source": [
    "dataset_train = pd.read_csv('datasets/data-train - train.csv')\n",
    "dataset_test = pd.read_csv('datasets/data-test - test.csv')"
   ],
   "outputs": [],
   "execution_count": 115
  },
  {
   "metadata": {},
   "cell_type": "markdown",
   "source": "## Análise Exploratória"
  },
  {
   "metadata": {},
   "cell_type": "markdown",
   "source": "### Treino"
  },
  {
   "metadata": {},
   "cell_type": "markdown",
   "source": "Cinco Primeiras Linhas"
  },
  {
   "metadata": {
    "ExecuteTime": {
     "end_time": "2025-03-20T18:58:26.594783Z",
     "start_time": "2025-03-20T18:58:26.584110Z"
    }
   },
   "cell_type": "code",
   "source": "dataset_train.head(n=5)",
   "outputs": [
    {
     "data": {
      "text/plain": [
       "   avganncount  avgdeathsperyear  incidencerate  medincome  popest2015  \\\n",
       "0        170.0                76          456.6      40012       27451   \n",
       "1        232.0                84          480.5      54441       43011   \n",
       "2        652.0               325          371.0      57719      149568   \n",
       "3         44.0                20          472.2      42624        6561   \n",
       "4        581.0               230          467.1      46849       97631   \n",
       "\n",
       "   povertypercent  studypercap           binnedinc  medianage  medianagemale  \\\n",
       "0            16.1     0.000000  (37413.8, 40362.7]       43.2           42.1   \n",
       "1            11.4     0.000000  (51046.4, 54545.6]       38.2           37.1   \n",
       "2            10.4   608.418913  (54545.6, 61494.5]       41.7           41.0   \n",
       "3            14.1     0.000000  (40362.7, 42724.4]       44.8           43.3   \n",
       "4            16.6     0.000000    (45201, 48021.6]       42.0           41.5   \n",
       "\n",
       "   ...  pctempprivcoverage pctpubliccoverage  pctpubliccoveragealone  \\\n",
       "0  ...                41.6              39.4                    23.3   \n",
       "1  ...                49.4              33.6                    15.6   \n",
       "2  ...                55.4              31.1                    14.0   \n",
       "3  ...                48.2              34.3                    16.5   \n",
       "4  ...                45.4              39.9                    20.7   \n",
       "\n",
       "    pctwhite  pctblack  pctasian  pctotherrace  pctmarriedhouseholds  \\\n",
       "0  94.815349  3.145379  0.299045      0.169339             42.973813   \n",
       "1  91.939506  1.547317  1.242048      2.395544             55.221780   \n",
       "2  94.608338  2.322582  0.616874      0.607567             54.451388   \n",
       "3  94.220955  5.028520  0.000000      0.000000             53.596021   \n",
       "4  94.978969  1.566918  1.529418      0.334465             46.999367   \n",
       "\n",
       "   birthrate  target_deathrate  \n",
       "0   7.391231             198.4  \n",
       "1   6.572521             170.9  \n",
       "2   6.102217             182.8  \n",
       "3   5.213270             220.5  \n",
       "4   6.856742             178.7  \n",
       "\n",
       "[5 rows x 34 columns]"
      ],
      "text/html": [
       "<div>\n",
       "<style scoped>\n",
       "    .dataframe tbody tr th:only-of-type {\n",
       "        vertical-align: middle;\n",
       "    }\n",
       "\n",
       "    .dataframe tbody tr th {\n",
       "        vertical-align: top;\n",
       "    }\n",
       "\n",
       "    .dataframe thead th {\n",
       "        text-align: right;\n",
       "    }\n",
       "</style>\n",
       "<table border=\"1\" class=\"dataframe\">\n",
       "  <thead>\n",
       "    <tr style=\"text-align: right;\">\n",
       "      <th></th>\n",
       "      <th>avganncount</th>\n",
       "      <th>avgdeathsperyear</th>\n",
       "      <th>incidencerate</th>\n",
       "      <th>medincome</th>\n",
       "      <th>popest2015</th>\n",
       "      <th>povertypercent</th>\n",
       "      <th>studypercap</th>\n",
       "      <th>binnedinc</th>\n",
       "      <th>medianage</th>\n",
       "      <th>medianagemale</th>\n",
       "      <th>...</th>\n",
       "      <th>pctempprivcoverage</th>\n",
       "      <th>pctpubliccoverage</th>\n",
       "      <th>pctpubliccoveragealone</th>\n",
       "      <th>pctwhite</th>\n",
       "      <th>pctblack</th>\n",
       "      <th>pctasian</th>\n",
       "      <th>pctotherrace</th>\n",
       "      <th>pctmarriedhouseholds</th>\n",
       "      <th>birthrate</th>\n",
       "      <th>target_deathrate</th>\n",
       "    </tr>\n",
       "  </thead>\n",
       "  <tbody>\n",
       "    <tr>\n",
       "      <th>0</th>\n",
       "      <td>170.0</td>\n",
       "      <td>76</td>\n",
       "      <td>456.6</td>\n",
       "      <td>40012</td>\n",
       "      <td>27451</td>\n",
       "      <td>16.1</td>\n",
       "      <td>0.000000</td>\n",
       "      <td>(37413.8, 40362.7]</td>\n",
       "      <td>43.2</td>\n",
       "      <td>42.1</td>\n",
       "      <td>...</td>\n",
       "      <td>41.6</td>\n",
       "      <td>39.4</td>\n",
       "      <td>23.3</td>\n",
       "      <td>94.815349</td>\n",
       "      <td>3.145379</td>\n",
       "      <td>0.299045</td>\n",
       "      <td>0.169339</td>\n",
       "      <td>42.973813</td>\n",
       "      <td>7.391231</td>\n",
       "      <td>198.4</td>\n",
       "    </tr>\n",
       "    <tr>\n",
       "      <th>1</th>\n",
       "      <td>232.0</td>\n",
       "      <td>84</td>\n",
       "      <td>480.5</td>\n",
       "      <td>54441</td>\n",
       "      <td>43011</td>\n",
       "      <td>11.4</td>\n",
       "      <td>0.000000</td>\n",
       "      <td>(51046.4, 54545.6]</td>\n",
       "      <td>38.2</td>\n",
       "      <td>37.1</td>\n",
       "      <td>...</td>\n",
       "      <td>49.4</td>\n",
       "      <td>33.6</td>\n",
       "      <td>15.6</td>\n",
       "      <td>91.939506</td>\n",
       "      <td>1.547317</td>\n",
       "      <td>1.242048</td>\n",
       "      <td>2.395544</td>\n",
       "      <td>55.221780</td>\n",
       "      <td>6.572521</td>\n",
       "      <td>170.9</td>\n",
       "    </tr>\n",
       "    <tr>\n",
       "      <th>2</th>\n",
       "      <td>652.0</td>\n",
       "      <td>325</td>\n",
       "      <td>371.0</td>\n",
       "      <td>57719</td>\n",
       "      <td>149568</td>\n",
       "      <td>10.4</td>\n",
       "      <td>608.418913</td>\n",
       "      <td>(54545.6, 61494.5]</td>\n",
       "      <td>41.7</td>\n",
       "      <td>41.0</td>\n",
       "      <td>...</td>\n",
       "      <td>55.4</td>\n",
       "      <td>31.1</td>\n",
       "      <td>14.0</td>\n",
       "      <td>94.608338</td>\n",
       "      <td>2.322582</td>\n",
       "      <td>0.616874</td>\n",
       "      <td>0.607567</td>\n",
       "      <td>54.451388</td>\n",
       "      <td>6.102217</td>\n",
       "      <td>182.8</td>\n",
       "    </tr>\n",
       "    <tr>\n",
       "      <th>3</th>\n",
       "      <td>44.0</td>\n",
       "      <td>20</td>\n",
       "      <td>472.2</td>\n",
       "      <td>42624</td>\n",
       "      <td>6561</td>\n",
       "      <td>14.1</td>\n",
       "      <td>0.000000</td>\n",
       "      <td>(40362.7, 42724.4]</td>\n",
       "      <td>44.8</td>\n",
       "      <td>43.3</td>\n",
       "      <td>...</td>\n",
       "      <td>48.2</td>\n",
       "      <td>34.3</td>\n",
       "      <td>16.5</td>\n",
       "      <td>94.220955</td>\n",
       "      <td>5.028520</td>\n",
       "      <td>0.000000</td>\n",
       "      <td>0.000000</td>\n",
       "      <td>53.596021</td>\n",
       "      <td>5.213270</td>\n",
       "      <td>220.5</td>\n",
       "    </tr>\n",
       "    <tr>\n",
       "      <th>4</th>\n",
       "      <td>581.0</td>\n",
       "      <td>230</td>\n",
       "      <td>467.1</td>\n",
       "      <td>46849</td>\n",
       "      <td>97631</td>\n",
       "      <td>16.6</td>\n",
       "      <td>0.000000</td>\n",
       "      <td>(45201, 48021.6]</td>\n",
       "      <td>42.0</td>\n",
       "      <td>41.5</td>\n",
       "      <td>...</td>\n",
       "      <td>45.4</td>\n",
       "      <td>39.9</td>\n",
       "      <td>20.7</td>\n",
       "      <td>94.978969</td>\n",
       "      <td>1.566918</td>\n",
       "      <td>1.529418</td>\n",
       "      <td>0.334465</td>\n",
       "      <td>46.999367</td>\n",
       "      <td>6.856742</td>\n",
       "      <td>178.7</td>\n",
       "    </tr>\n",
       "  </tbody>\n",
       "</table>\n",
       "<p>5 rows × 34 columns</p>\n",
       "</div>"
      ]
     },
     "execution_count": 84,
     "metadata": {},
     "output_type": "execute_result"
    }
   ],
   "execution_count": 84
  },
  {
   "metadata": {},
   "cell_type": "markdown",
   "source": "Distribuição das Classes"
  },
  {
   "metadata": {
    "ExecuteTime": {
     "end_time": "2025-03-20T18:32:51.631390Z",
     "start_time": "2025-03-20T18:32:51.579406Z"
    }
   },
   "cell_type": "code",
   "source": "dataset_train.describe()",
   "outputs": [
    {
     "data": {
      "text/plain": [
       "        avganncount  avgdeathsperyear  incidencerate      medincome  \\\n",
       "count   2742.000000       2742.000000    2742.000000    2742.000000   \n",
       "mean     615.856989        187.976659     448.119963   46988.582057   \n",
       "std     1433.570609        510.943653      54.440848   12152.299253   \n",
       "min        6.000000          3.000000     211.100000   22640.000000   \n",
       "25%       76.000000         28.000000     420.425000   38750.500000   \n",
       "50%      173.000000         61.000000     453.549422   45080.000000   \n",
       "75%      532.750000        151.000000     480.800000   52386.500000   \n",
       "max    38150.000000      14010.000000    1206.900000  125635.000000   \n",
       "\n",
       "         popest2015  povertypercent  studypercap    medianage  medianagemale  \\\n",
       "count  2.742000e+03     2742.000000  2742.000000  2742.000000    2742.000000   \n",
       "mean   1.033009e+05       16.900109   160.281290    45.454996      39.588986   \n",
       "std    3.325129e+05        6.406914   547.979242    46.057255       5.201666   \n",
       "min    8.270000e+02        3.200000     0.000000    22.300000      22.400000   \n",
       "25%    1.166025e+04       12.200000     0.000000    37.800000      36.400000   \n",
       "50%    2.671000e+04       15.900000     0.000000    41.000000      39.550000   \n",
       "75%    6.952450e+04       20.400000    87.228018    44.100000      42.600000   \n",
       "max    1.017029e+07       47.400000  9762.308998   624.000000      64.700000   \n",
       "\n",
       "       medianagefemale  ...  pctempprivcoverage  pctpubliccoverage  \\\n",
       "count      2742.000000  ...         2742.000000        2742.000000   \n",
       "mean         42.182677  ...           41.102954          36.328483   \n",
       "std           5.277583  ...            9.407186           7.846370   \n",
       "min          22.300000  ...           13.500000          11.800000   \n",
       "25%          39.100000  ...           34.300000          31.100000   \n",
       "50%          42.400000  ...           41.100000          36.400000   \n",
       "75%          45.400000  ...           47.400000          41.600000   \n",
       "max          65.700000  ...           70.700000          65.100000   \n",
       "\n",
       "       pctpubliccoveragealone      pctwhite     pctblack     pctasian  \\\n",
       "count             2742.000000   2742.000000  2742.000000  2742.000000   \n",
       "mean                19.285266    141.982602     9.394694     1.239634   \n",
       "std                  6.105076   2209.473029    19.305272     2.534925   \n",
       "min                  2.600000     10.199155     0.000000     0.000000   \n",
       "25%                 15.000000     77.341176     0.634163     0.256324   \n",
       "50%                 18.800000     89.977678     2.334870     0.544608   \n",
       "75%                 23.100000     95.409287    10.746240     1.225619   \n",
       "max                 46.600000  97625.000000   675.000000    42.619425   \n",
       "\n",
       "       pctotherrace  pctmarriedhouseholds    birthrate  target_deathrate  \n",
       "count   2742.000000           2742.000000  2742.000000       2742.000000  \n",
       "mean       2.026429             92.102617    13.644176        178.647301  \n",
       "std        3.619381           1514.326555   247.083035         27.738109  \n",
       "min        0.000000             22.992490     0.000000         59.700000  \n",
       "25%        0.296088             47.729903     4.527412        161.400000  \n",
       "50%        0.833393             51.658791     5.382090        178.300000  \n",
       "75%        2.219736             55.387885     6.529063        195.100000  \n",
       "max       41.930251          57275.000000  9375.000000        362.800000  \n",
       "\n",
       "[8 rows x 32 columns]"
      ],
      "text/html": [
       "<div>\n",
       "<style scoped>\n",
       "    .dataframe tbody tr th:only-of-type {\n",
       "        vertical-align: middle;\n",
       "    }\n",
       "\n",
       "    .dataframe tbody tr th {\n",
       "        vertical-align: top;\n",
       "    }\n",
       "\n",
       "    .dataframe thead th {\n",
       "        text-align: right;\n",
       "    }\n",
       "</style>\n",
       "<table border=\"1\" class=\"dataframe\">\n",
       "  <thead>\n",
       "    <tr style=\"text-align: right;\">\n",
       "      <th></th>\n",
       "      <th>avganncount</th>\n",
       "      <th>avgdeathsperyear</th>\n",
       "      <th>incidencerate</th>\n",
       "      <th>medincome</th>\n",
       "      <th>popest2015</th>\n",
       "      <th>povertypercent</th>\n",
       "      <th>studypercap</th>\n",
       "      <th>medianage</th>\n",
       "      <th>medianagemale</th>\n",
       "      <th>medianagefemale</th>\n",
       "      <th>...</th>\n",
       "      <th>pctempprivcoverage</th>\n",
       "      <th>pctpubliccoverage</th>\n",
       "      <th>pctpubliccoveragealone</th>\n",
       "      <th>pctwhite</th>\n",
       "      <th>pctblack</th>\n",
       "      <th>pctasian</th>\n",
       "      <th>pctotherrace</th>\n",
       "      <th>pctmarriedhouseholds</th>\n",
       "      <th>birthrate</th>\n",
       "      <th>target_deathrate</th>\n",
       "    </tr>\n",
       "  </thead>\n",
       "  <tbody>\n",
       "    <tr>\n",
       "      <th>count</th>\n",
       "      <td>2742.000000</td>\n",
       "      <td>2742.000000</td>\n",
       "      <td>2742.000000</td>\n",
       "      <td>2742.000000</td>\n",
       "      <td>2.742000e+03</td>\n",
       "      <td>2742.000000</td>\n",
       "      <td>2742.000000</td>\n",
       "      <td>2742.000000</td>\n",
       "      <td>2742.000000</td>\n",
       "      <td>2742.000000</td>\n",
       "      <td>...</td>\n",
       "      <td>2742.000000</td>\n",
       "      <td>2742.000000</td>\n",
       "      <td>2742.000000</td>\n",
       "      <td>2742.000000</td>\n",
       "      <td>2742.000000</td>\n",
       "      <td>2742.000000</td>\n",
       "      <td>2742.000000</td>\n",
       "      <td>2742.000000</td>\n",
       "      <td>2742.000000</td>\n",
       "      <td>2742.000000</td>\n",
       "    </tr>\n",
       "    <tr>\n",
       "      <th>mean</th>\n",
       "      <td>615.856989</td>\n",
       "      <td>187.976659</td>\n",
       "      <td>448.119963</td>\n",
       "      <td>46988.582057</td>\n",
       "      <td>1.033009e+05</td>\n",
       "      <td>16.900109</td>\n",
       "      <td>160.281290</td>\n",
       "      <td>45.454996</td>\n",
       "      <td>39.588986</td>\n",
       "      <td>42.182677</td>\n",
       "      <td>...</td>\n",
       "      <td>41.102954</td>\n",
       "      <td>36.328483</td>\n",
       "      <td>19.285266</td>\n",
       "      <td>141.982602</td>\n",
       "      <td>9.394694</td>\n",
       "      <td>1.239634</td>\n",
       "      <td>2.026429</td>\n",
       "      <td>92.102617</td>\n",
       "      <td>13.644176</td>\n",
       "      <td>178.647301</td>\n",
       "    </tr>\n",
       "    <tr>\n",
       "      <th>std</th>\n",
       "      <td>1433.570609</td>\n",
       "      <td>510.943653</td>\n",
       "      <td>54.440848</td>\n",
       "      <td>12152.299253</td>\n",
       "      <td>3.325129e+05</td>\n",
       "      <td>6.406914</td>\n",
       "      <td>547.979242</td>\n",
       "      <td>46.057255</td>\n",
       "      <td>5.201666</td>\n",
       "      <td>5.277583</td>\n",
       "      <td>...</td>\n",
       "      <td>9.407186</td>\n",
       "      <td>7.846370</td>\n",
       "      <td>6.105076</td>\n",
       "      <td>2209.473029</td>\n",
       "      <td>19.305272</td>\n",
       "      <td>2.534925</td>\n",
       "      <td>3.619381</td>\n",
       "      <td>1514.326555</td>\n",
       "      <td>247.083035</td>\n",
       "      <td>27.738109</td>\n",
       "    </tr>\n",
       "    <tr>\n",
       "      <th>min</th>\n",
       "      <td>6.000000</td>\n",
       "      <td>3.000000</td>\n",
       "      <td>211.100000</td>\n",
       "      <td>22640.000000</td>\n",
       "      <td>8.270000e+02</td>\n",
       "      <td>3.200000</td>\n",
       "      <td>0.000000</td>\n",
       "      <td>22.300000</td>\n",
       "      <td>22.400000</td>\n",
       "      <td>22.300000</td>\n",
       "      <td>...</td>\n",
       "      <td>13.500000</td>\n",
       "      <td>11.800000</td>\n",
       "      <td>2.600000</td>\n",
       "      <td>10.199155</td>\n",
       "      <td>0.000000</td>\n",
       "      <td>0.000000</td>\n",
       "      <td>0.000000</td>\n",
       "      <td>22.992490</td>\n",
       "      <td>0.000000</td>\n",
       "      <td>59.700000</td>\n",
       "    </tr>\n",
       "    <tr>\n",
       "      <th>25%</th>\n",
       "      <td>76.000000</td>\n",
       "      <td>28.000000</td>\n",
       "      <td>420.425000</td>\n",
       "      <td>38750.500000</td>\n",
       "      <td>1.166025e+04</td>\n",
       "      <td>12.200000</td>\n",
       "      <td>0.000000</td>\n",
       "      <td>37.800000</td>\n",
       "      <td>36.400000</td>\n",
       "      <td>39.100000</td>\n",
       "      <td>...</td>\n",
       "      <td>34.300000</td>\n",
       "      <td>31.100000</td>\n",
       "      <td>15.000000</td>\n",
       "      <td>77.341176</td>\n",
       "      <td>0.634163</td>\n",
       "      <td>0.256324</td>\n",
       "      <td>0.296088</td>\n",
       "      <td>47.729903</td>\n",
       "      <td>4.527412</td>\n",
       "      <td>161.400000</td>\n",
       "    </tr>\n",
       "    <tr>\n",
       "      <th>50%</th>\n",
       "      <td>173.000000</td>\n",
       "      <td>61.000000</td>\n",
       "      <td>453.549422</td>\n",
       "      <td>45080.000000</td>\n",
       "      <td>2.671000e+04</td>\n",
       "      <td>15.900000</td>\n",
       "      <td>0.000000</td>\n",
       "      <td>41.000000</td>\n",
       "      <td>39.550000</td>\n",
       "      <td>42.400000</td>\n",
       "      <td>...</td>\n",
       "      <td>41.100000</td>\n",
       "      <td>36.400000</td>\n",
       "      <td>18.800000</td>\n",
       "      <td>89.977678</td>\n",
       "      <td>2.334870</td>\n",
       "      <td>0.544608</td>\n",
       "      <td>0.833393</td>\n",
       "      <td>51.658791</td>\n",
       "      <td>5.382090</td>\n",
       "      <td>178.300000</td>\n",
       "    </tr>\n",
       "    <tr>\n",
       "      <th>75%</th>\n",
       "      <td>532.750000</td>\n",
       "      <td>151.000000</td>\n",
       "      <td>480.800000</td>\n",
       "      <td>52386.500000</td>\n",
       "      <td>6.952450e+04</td>\n",
       "      <td>20.400000</td>\n",
       "      <td>87.228018</td>\n",
       "      <td>44.100000</td>\n",
       "      <td>42.600000</td>\n",
       "      <td>45.400000</td>\n",
       "      <td>...</td>\n",
       "      <td>47.400000</td>\n",
       "      <td>41.600000</td>\n",
       "      <td>23.100000</td>\n",
       "      <td>95.409287</td>\n",
       "      <td>10.746240</td>\n",
       "      <td>1.225619</td>\n",
       "      <td>2.219736</td>\n",
       "      <td>55.387885</td>\n",
       "      <td>6.529063</td>\n",
       "      <td>195.100000</td>\n",
       "    </tr>\n",
       "    <tr>\n",
       "      <th>max</th>\n",
       "      <td>38150.000000</td>\n",
       "      <td>14010.000000</td>\n",
       "      <td>1206.900000</td>\n",
       "      <td>125635.000000</td>\n",
       "      <td>1.017029e+07</td>\n",
       "      <td>47.400000</td>\n",
       "      <td>9762.308998</td>\n",
       "      <td>624.000000</td>\n",
       "      <td>64.700000</td>\n",
       "      <td>65.700000</td>\n",
       "      <td>...</td>\n",
       "      <td>70.700000</td>\n",
       "      <td>65.100000</td>\n",
       "      <td>46.600000</td>\n",
       "      <td>97625.000000</td>\n",
       "      <td>675.000000</td>\n",
       "      <td>42.619425</td>\n",
       "      <td>41.930251</td>\n",
       "      <td>57275.000000</td>\n",
       "      <td>9375.000000</td>\n",
       "      <td>362.800000</td>\n",
       "    </tr>\n",
       "  </tbody>\n",
       "</table>\n",
       "<p>8 rows × 32 columns</p>\n",
       "</div>"
      ]
     },
     "execution_count": 40,
     "metadata": {},
     "output_type": "execute_result"
    }
   ],
   "execution_count": 40
  },
  {
   "metadata": {},
   "cell_type": "markdown",
   "source": "Verificar valores nulos"
  },
  {
   "metadata": {
    "ExecuteTime": {
     "end_time": "2025-03-20T18:39:41.977856Z",
     "start_time": "2025-03-20T18:39:41.972511Z"
    }
   },
   "cell_type": "code",
   "source": "dataset_train.isnull().sum()",
   "outputs": [
    {
     "data": {
      "text/plain": [
       "avganncount                   0\n",
       "avgdeathsperyear              0\n",
       "incidencerate                 0\n",
       "medincome                     0\n",
       "popest2015                    0\n",
       "povertypercent                0\n",
       "studypercap                   0\n",
       "binnedinc                     0\n",
       "medianage                     0\n",
       "medianagemale                 0\n",
       "medianagefemale               0\n",
       "geography                     0\n",
       "avghouseholdsize              0\n",
       "percentmarried                0\n",
       "pctnohs18_24                  0\n",
       "pcths18_24                    0\n",
       "pctsomecol18_24            2056\n",
       "pctbachdeg18_24               0\n",
       "pcths25_over                  0\n",
       "pctbachdeg25_over             0\n",
       "pctemployed16_over          138\n",
       "pctunemployed16_over          0\n",
       "pctprivatecoverage            0\n",
       "pctprivatecoveragealone     551\n",
       "pctempprivcoverage            0\n",
       "pctpubliccoverage             0\n",
       "pctpubliccoveragealone        0\n",
       "pctwhite                      0\n",
       "pctblack                      0\n",
       "pctasian                      0\n",
       "pctotherrace                  0\n",
       "pctmarriedhouseholds          0\n",
       "birthrate                     0\n",
       "target_deathrate              0\n",
       "dtype: int64"
      ]
     },
     "execution_count": 61,
     "metadata": {},
     "output_type": "execute_result"
    }
   ],
   "execution_count": 61
  },
  {
   "metadata": {},
   "cell_type": "markdown",
   "source": "Verificar valores NaN"
  },
  {
   "metadata": {
    "ExecuteTime": {
     "end_time": "2025-03-20T18:39:29.347720Z",
     "start_time": "2025-03-20T18:39:29.339645Z"
    }
   },
   "cell_type": "code",
   "source": "dataset_train.isna().sum()",
   "outputs": [
    {
     "data": {
      "text/plain": [
       "avganncount                   0\n",
       "avgdeathsperyear              0\n",
       "incidencerate                 0\n",
       "medincome                     0\n",
       "popest2015                    0\n",
       "povertypercent                0\n",
       "studypercap                   0\n",
       "binnedinc                     0\n",
       "medianage                     0\n",
       "medianagemale                 0\n",
       "medianagefemale               0\n",
       "geography                     0\n",
       "avghouseholdsize              0\n",
       "percentmarried                0\n",
       "pctnohs18_24                  0\n",
       "pcths18_24                    0\n",
       "pctsomecol18_24            2056\n",
       "pctbachdeg18_24               0\n",
       "pcths25_over                  0\n",
       "pctbachdeg25_over             0\n",
       "pctemployed16_over          138\n",
       "pctunemployed16_over          0\n",
       "pctprivatecoverage            0\n",
       "pctprivatecoveragealone     551\n",
       "pctempprivcoverage            0\n",
       "pctpubliccoverage             0\n",
       "pctpubliccoveragealone        0\n",
       "pctwhite                      0\n",
       "pctblack                      0\n",
       "pctasian                      0\n",
       "pctotherrace                  0\n",
       "pctmarriedhouseholds          0\n",
       "birthrate                     0\n",
       "target_deathrate              0\n",
       "dtype: int64"
      ]
     },
     "execution_count": 60,
     "metadata": {},
     "output_type": "execute_result"
    }
   ],
   "execution_count": 60
  },
  {
   "metadata": {},
   "cell_type": "markdown",
   "source": "Histogramas"
  },
  {
   "metadata": {
    "ExecuteTime": {
     "end_time": "2025-03-20T18:33:09.987237Z",
     "start_time": "2025-03-20T18:33:08.299155Z"
    }
   },
   "cell_type": "code",
   "source": [
    "dataset_train.hist(bins=30, figsize=(20,15))\n",
    "plt.show()"
   ],
   "outputs": [
    {
     "data": {
      "text/plain": [
       "<Figure size 2000x1500 with 36 Axes>"
      ],
      "image/png": "[encoded data removed]"
     },
     "metadata": {},
     "output_type": "display_data"
    }
   ],
   "execution_count": 43
  },
  {
   "metadata": {},
   "cell_type": "markdown",
   "source": "Tipos de Dados"
  },
  {
   "metadata": {
    "ExecuteTime": {
     "end_time": "2025-03-20T18:33:10.119888Z",
     "start_time": "2025-03-20T18:33:10.114858Z"
    }
   },
   "cell_type": "code",
   "source": "dataset_train.dtypes",
   "outputs": [
    {
     "data": {
      "text/plain": [
       "avganncount                float64\n",
       "avgdeathsperyear             int64\n",
       "incidencerate              float64\n",
       "medincome                    int64\n",
       "popest2015                   int64\n",
       "povertypercent             float64\n",
       "studypercap                float64\n",
       "binnedinc                   object\n",
       "medianage                  float64\n",
       "medianagemale              float64\n",
       "medianagefemale            float64\n",
       "geography                   object\n",
       "avghouseholdsize           float64\n",
       "percentmarried             float64\n",
       "pctnohs18_24               float64\n",
       "pcths18_24                 float64\n",
       "pctsomecol18_24            float64\n",
       "pctbachdeg18_24            float64\n",
       "pcths25_over               float64\n",
       "pctbachdeg25_over          float64\n",
       "pctemployed16_over         float64\n",
       "pctunemployed16_over       float64\n",
       "pctprivatecoverage         float64\n",
       "pctprivatecoveragealone    float64\n",
       "pctempprivcoverage         float64\n",
       "pctpubliccoverage          float64\n",
       "pctpubliccoveragealone     float64\n",
       "pctwhite                   float64\n",
       "pctblack                   float64\n",
       "pctasian                   float64\n",
       "pctotherrace               float64\n",
       "pctmarriedhouseholds       float64\n",
       "birthrate                  float64\n",
       "target_deathrate           float64\n",
       "dtype: object"
      ]
     },
     "execution_count": 44,
     "metadata": {},
     "output_type": "execute_result"
    }
   ],
   "execution_count": 44
  },
  {
   "metadata": {},
   "cell_type": "markdown",
   "source": "### Teste"
  },
  {
   "metadata": {},
   "cell_type": "markdown",
   "source": "Cinco Primeiras Linhas"
  },
  {
   "metadata": {
    "ExecuteTime": {
     "end_time": "2025-03-20T18:23:59.634531Z",
     "start_time": "2025-03-20T18:23:59.622531Z"
    }
   },
   "cell_type": "code",
   "source": "dataset_test.head(n=5)",
   "outputs": [
    {
     "data": {
      "text/plain": [
       "   avganncount  avgdeathsperyear  incidencerate  medincome  popest2015  \\\n",
       "0         37.0                15          423.8      54556        5619   \n",
       "1       1337.0               550          459.6      46388      268441   \n",
       "2        436.0               160          438.7      51629       83632   \n",
       "3        387.0               149          413.9      53953       70601   \n",
       "4        167.0                75          460.6      42374       28491   \n",
       "\n",
       "   povertypercent  studypercap           binnedinc  medianage  medianagemale  \\\n",
       "0            10.1     0.000000  (54545.6, 61494.5]       47.5           46.2   \n",
       "1            17.2   972.280687    (45201, 48021.6]       36.5           35.3   \n",
       "2            11.9     0.000000  (51046.4, 54545.6]       40.9           39.7   \n",
       "3            12.0    84.984632  (51046.4, 54545.6]       45.1           43.8   \n",
       "4            17.5    35.098803  (40362.7, 42724.4]       42.6           42.1   \n",
       "\n",
       "   ...  pctempprivcoverage pctpubliccoverage  pctpubliccoveragealone  \\\n",
       "0  ...                44.2              31.9                    12.7   \n",
       "1  ...                50.0              30.2                    17.1   \n",
       "2  ...                53.6              31.9                    13.4   \n",
       "3  ...                50.4              40.1                    19.0   \n",
       "4  ...                42.5              39.7                    21.6   \n",
       "\n",
       "    pctwhite   pctblack  pctasian  pctotherrace  pctmarriedhouseholds  \\\n",
       "0  97.191504   0.912761  0.017553      1.000527             53.409091   \n",
       "1  79.528599  12.921428  2.013126      2.037074             46.380079   \n",
       "2  93.654932   1.381182  2.330671      0.611069             55.876491   \n",
       "3  93.884235   1.295963  1.626279      0.833521             44.848023   \n",
       "4  97.423394   0.819672  0.335478      0.103756             53.903574   \n",
       "\n",
       "   birthrate  target_deathrate  \n",
       "0   6.001847             150.3  \n",
       "1   5.453791             180.3  \n",
       "2   5.762837             154.4  \n",
       "3   3.458754             153.9  \n",
       "4   5.314640             205.9  \n",
       "\n",
       "[5 rows x 34 columns]"
      ],
      "text/html": [
       "<div>\n",
       "<style scoped>\n",
       "    .dataframe tbody tr th:only-of-type {\n",
       "        vertical-align: middle;\n",
       "    }\n",
       "\n",
       "    .dataframe tbody tr th {\n",
       "        vertical-align: top;\n",
       "    }\n",
       "\n",
       "    .dataframe thead th {\n",
       "        text-align: right;\n",
       "    }\n",
       "</style>\n",
       "<table border=\"1\" class=\"dataframe\">\n",
       "  <thead>\n",
       "    <tr style=\"text-align: right;\">\n",
       "      <th></th>\n",
       "      <th>avganncount</th>\n",
       "      <th>avgdeathsperyear</th>\n",
       "      <th>incidencerate</th>\n",
       "      <th>medincome</th>\n",
       "      <th>popest2015</th>\n",
       "      <th>povertypercent</th>\n",
       "      <th>studypercap</th>\n",
       "      <th>binnedinc</th>\n",
       "      <th>medianage</th>\n",
       "      <th>medianagemale</th>\n",
       "      <th>...</th>\n",
       "      <th>pctempprivcoverage</th>\n",
       "      <th>pctpubliccoverage</th>\n",
       "      <th>pctpubliccoveragealone</th>\n",
       "      <th>pctwhite</th>\n",
       "      <th>pctblack</th>\n",
       "      <th>pctasian</th>\n",
       "      <th>pctotherrace</th>\n",
       "      <th>pctmarriedhouseholds</th>\n",
       "      <th>birthrate</th>\n",
       "      <th>target_deathrate</th>\n",
       "    </tr>\n",
       "  </thead>\n",
       "  <tbody>\n",
       "    <tr>\n",
       "      <th>0</th>\n",
       "      <td>37.0</td>\n",
       "      <td>15</td>\n",
       "      <td>423.8</td>\n",
       "      <td>54556</td>\n",
       "      <td>5619</td>\n",
       "      <td>10.1</td>\n",
       "      <td>0.000000</td>\n",
       "      <td>(54545.6, 61494.5]</td>\n",
       "      <td>47.5</td>\n",
       "      <td>46.2</td>\n",
       "      <td>...</td>\n",
       "      <td>44.2</td>\n",
       "      <td>31.9</td>\n",
       "      <td>12.7</td>\n",
       "      <td>97.191504</td>\n",
       "      <td>0.912761</td>\n",
       "      <td>0.017553</td>\n",
       "      <td>1.000527</td>\n",
       "      <td>53.409091</td>\n",
       "      <td>6.001847</td>\n",
       "      <td>150.3</td>\n",
       "    </tr>\n",
       "    <tr>\n",
       "      <th>1</th>\n",
       "      <td>1337.0</td>\n",
       "      <td>550</td>\n",
       "      <td>459.6</td>\n",
       "      <td>46388</td>\n",
       "      <td>268441</td>\n",
       "      <td>17.2</td>\n",
       "      <td>972.280687</td>\n",
       "      <td>(45201, 48021.6]</td>\n",
       "      <td>36.5</td>\n",
       "      <td>35.3</td>\n",
       "      <td>...</td>\n",
       "      <td>50.0</td>\n",
       "      <td>30.2</td>\n",
       "      <td>17.1</td>\n",
       "      <td>79.528599</td>\n",
       "      <td>12.921428</td>\n",
       "      <td>2.013126</td>\n",
       "      <td>2.037074</td>\n",
       "      <td>46.380079</td>\n",
       "      <td>5.453791</td>\n",
       "      <td>180.3</td>\n",
       "    </tr>\n",
       "    <tr>\n",
       "      <th>2</th>\n",
       "      <td>436.0</td>\n",
       "      <td>160</td>\n",
       "      <td>438.7</td>\n",
       "      <td>51629</td>\n",
       "      <td>83632</td>\n",
       "      <td>11.9</td>\n",
       "      <td>0.000000</td>\n",
       "      <td>(51046.4, 54545.6]</td>\n",
       "      <td>40.9</td>\n",
       "      <td>39.7</td>\n",
       "      <td>...</td>\n",
       "      <td>53.6</td>\n",
       "      <td>31.9</td>\n",
       "      <td>13.4</td>\n",
       "      <td>93.654932</td>\n",
       "      <td>1.381182</td>\n",
       "      <td>2.330671</td>\n",
       "      <td>0.611069</td>\n",
       "      <td>55.876491</td>\n",
       "      <td>5.762837</td>\n",
       "      <td>154.4</td>\n",
       "    </tr>\n",
       "    <tr>\n",
       "      <th>3</th>\n",
       "      <td>387.0</td>\n",
       "      <td>149</td>\n",
       "      <td>413.9</td>\n",
       "      <td>53953</td>\n",
       "      <td>70601</td>\n",
       "      <td>12.0</td>\n",
       "      <td>84.984632</td>\n",
       "      <td>(51046.4, 54545.6]</td>\n",
       "      <td>45.1</td>\n",
       "      <td>43.8</td>\n",
       "      <td>...</td>\n",
       "      <td>50.4</td>\n",
       "      <td>40.1</td>\n",
       "      <td>19.0</td>\n",
       "      <td>93.884235</td>\n",
       "      <td>1.295963</td>\n",
       "      <td>1.626279</td>\n",
       "      <td>0.833521</td>\n",
       "      <td>44.848023</td>\n",
       "      <td>3.458754</td>\n",
       "      <td>153.9</td>\n",
       "    </tr>\n",
       "    <tr>\n",
       "      <th>4</th>\n",
       "      <td>167.0</td>\n",
       "      <td>75</td>\n",
       "      <td>460.6</td>\n",
       "      <td>42374</td>\n",
       "      <td>28491</td>\n",
       "      <td>17.5</td>\n",
       "      <td>35.098803</td>\n",
       "      <td>(40362.7, 42724.4]</td>\n",
       "      <td>42.6</td>\n",
       "      <td>42.1</td>\n",
       "      <td>...</td>\n",
       "      <td>42.5</td>\n",
       "      <td>39.7</td>\n",
       "      <td>21.6</td>\n",
       "      <td>97.423394</td>\n",
       "      <td>0.819672</td>\n",
       "      <td>0.335478</td>\n",
       "      <td>0.103756</td>\n",
       "      <td>53.903574</td>\n",
       "      <td>5.314640</td>\n",
       "      <td>205.9</td>\n",
       "    </tr>\n",
       "  </tbody>\n",
       "</table>\n",
       "<p>5 rows × 34 columns</p>\n",
       "</div>"
      ]
     },
     "execution_count": 33,
     "metadata": {},
     "output_type": "execute_result"
    }
   ],
   "execution_count": 33
  },
  {
   "metadata": {},
   "cell_type": "markdown",
   "source": "Distribuição das Classes"
  },
  {
   "metadata": {
    "ExecuteTime": {
     "end_time": "2025-03-20T18:23:45.157316Z",
     "start_time": "2025-03-20T18:23:45.124454Z"
    }
   },
   "cell_type": "code",
   "source": "dataset_train.describe()",
   "outputs": [
    {
     "data": {
      "text/plain": [
       "        avganncount  avgdeathsperyear  incidencerate      medincome  \\\n",
       "count   2742.000000       2742.000000    2742.000000    2742.000000   \n",
       "mean     615.856989        187.976659     448.119963   46988.582057   \n",
       "std     1433.570609        510.943653      54.440848   12152.299253   \n",
       "min        6.000000          3.000000     211.100000   22640.000000   \n",
       "25%       76.000000         28.000000     420.425000   38750.500000   \n",
       "50%      173.000000         61.000000     453.549422   45080.000000   \n",
       "75%      532.750000        151.000000     480.800000   52386.500000   \n",
       "max    38150.000000      14010.000000    1206.900000  125635.000000   \n",
       "\n",
       "         popest2015  povertypercent  studypercap    medianage  medianagemale  \\\n",
       "count  2.742000e+03     2742.000000  2742.000000  2742.000000    2742.000000   \n",
       "mean   1.033009e+05       16.900109   160.281290    45.454996      39.588986   \n",
       "std    3.325129e+05        6.406914   547.979242    46.057255       5.201666   \n",
       "min    8.270000e+02        3.200000     0.000000    22.300000      22.400000   \n",
       "25%    1.166025e+04       12.200000     0.000000    37.800000      36.400000   \n",
       "50%    2.671000e+04       15.900000     0.000000    41.000000      39.550000   \n",
       "75%    6.952450e+04       20.400000    87.228018    44.100000      42.600000   \n",
       "max    1.017029e+07       47.400000  9762.308998   624.000000      64.700000   \n",
       "\n",
       "       medianagefemale  ...  pctempprivcoverage  pctpubliccoverage  \\\n",
       "count      2742.000000  ...         2742.000000        2742.000000   \n",
       "mean         42.182677  ...           41.102954          36.328483   \n",
       "std           5.277583  ...            9.407186           7.846370   \n",
       "min          22.300000  ...           13.500000          11.800000   \n",
       "25%          39.100000  ...           34.300000          31.100000   \n",
       "50%          42.400000  ...           41.100000          36.400000   \n",
       "75%          45.400000  ...           47.400000          41.600000   \n",
       "max          65.700000  ...           70.700000          65.100000   \n",
       "\n",
       "       pctpubliccoveragealone      pctwhite     pctblack     pctasian  \\\n",
       "count             2742.000000   2742.000000  2742.000000  2742.000000   \n",
       "mean                19.285266    141.982602     9.394694     1.239634   \n",
       "std                  6.105076   2209.473029    19.305272     2.534925   \n",
       "min                  2.600000     10.199155     0.000000     0.000000   \n",
       "25%                 15.000000     77.341176     0.634163     0.256324   \n",
       "50%                 18.800000     89.977678     2.334870     0.544608   \n",
       "75%                 23.100000     95.409287    10.746240     1.225619   \n",
       "max                 46.600000  97625.000000   675.000000    42.619425   \n",
       "\n",
       "       pctotherrace  pctmarriedhouseholds    birthrate  target_deathrate  \n",
       "count   2742.000000           2742.000000  2742.000000       2742.000000  \n",
       "mean       2.026429             92.102617    13.644176        178.647301  \n",
       "std        3.619381           1514.326555   247.083035         27.738109  \n",
       "min        0.000000             22.992490     0.000000         59.700000  \n",
       "25%        0.296088             47.729903     4.527412        161.400000  \n",
       "50%        0.833393             51.658791     5.382090        178.300000  \n",
       "75%        2.219736             55.387885     6.529063        195.100000  \n",
       "max       41.930251          57275.000000  9375.000000        362.800000  \n",
       "\n",
       "[8 rows x 32 columns]"
      ],
      "text/html": [
       "<div>\n",
       "<style scoped>\n",
       "    .dataframe tbody tr th:only-of-type {\n",
       "        vertical-align: middle;\n",
       "    }\n",
       "\n",
       "    .dataframe tbody tr th {\n",
       "        vertical-align: top;\n",
       "    }\n",
       "\n",
       "    .dataframe thead th {\n",
       "        text-align: right;\n",
       "    }\n",
       "</style>\n",
       "<table border=\"1\" class=\"dataframe\">\n",
       "  <thead>\n",
       "    <tr style=\"text-align: right;\">\n",
       "      <th></th>\n",
       "      <th>avganncount</th>\n",
       "      <th>avgdeathsperyear</th>\n",
       "      <th>incidencerate</th>\n",
       "      <th>medincome</th>\n",
       "      <th>popest2015</th>\n",
       "      <th>povertypercent</th>\n",
       "      <th>studypercap</th>\n",
       "      <th>medianage</th>\n",
       "      <th>medianagemale</th>\n",
       "      <th>medianagefemale</th>\n",
       "      <th>...</th>\n",
       "      <th>pctempprivcoverage</th>\n",
       "      <th>pctpubliccoverage</th>\n",
       "      <th>pctpubliccoveragealone</th>\n",
       "      <th>pctwhite</th>\n",
       "      <th>pctblack</th>\n",
       "      <th>pctasian</th>\n",
       "      <th>pctotherrace</th>\n",
       "      <th>pctmarriedhouseholds</th>\n",
       "      <th>birthrate</th>\n",
       "      <th>target_deathrate</th>\n",
       "    </tr>\n",
       "  </thead>\n",
       "  <tbody>\n",
       "    <tr>\n",
       "      <th>count</th>\n",
       "      <td>2742.000000</td>\n",
       "      <td>2742.000000</td>\n",
       "      <td>2742.000000</td>\n",
       "      <td>2742.000000</td>\n",
       "      <td>2.742000e+03</td>\n",
       "      <td>2742.000000</td>\n",
       "      <td>2742.000000</td>\n",
       "      <td>2742.000000</td>\n",
       "      <td>2742.000000</td>\n",
       "      <td>2742.000000</td>\n",
       "      <td>...</td>\n",
       "      <td>2742.000000</td>\n",
       "      <td>2742.000000</td>\n",
       "      <td>2742.000000</td>\n",
       "      <td>2742.000000</td>\n",
       "      <td>2742.000000</td>\n",
       "      <td>2742.000000</td>\n",
       "      <td>2742.000000</td>\n",
       "      <td>2742.000000</td>\n",
       "      <td>2742.000000</td>\n",
       "      <td>2742.000000</td>\n",
       "    </tr>\n",
       "    <tr>\n",
       "      <th>mean</th>\n",
       "      <td>615.856989</td>\n",
       "      <td>187.976659</td>\n",
       "      <td>448.119963</td>\n",
       "      <td>46988.582057</td>\n",
       "      <td>1.033009e+05</td>\n",
       "      <td>16.900109</td>\n",
       "      <td>160.281290</td>\n",
       "      <td>45.454996</td>\n",
       "      <td>39.588986</td>\n",
       "      <td>42.182677</td>\n",
       "      <td>...</td>\n",
       "      <td>41.102954</td>\n",
       "      <td>36.328483</td>\n",
       "      <td>19.285266</td>\n",
       "      <td>141.982602</td>\n",
       "      <td>9.394694</td>\n",
       "      <td>1.239634</td>\n",
       "      <td>2.026429</td>\n",
       "      <td>92.102617</td>\n",
       "      <td>13.644176</td>\n",
       "      <td>178.647301</td>\n",
       "    </tr>\n",
       "    <tr>\n",
       "      <th>std</th>\n",
       "      <td>1433.570609</td>\n",
       "      <td>510.943653</td>\n",
       "      <td>54.440848</td>\n",
       "      <td>12152.299253</td>\n",
       "      <td>3.325129e+05</td>\n",
       "      <td>6.406914</td>\n",
       "      <td>547.979242</td>\n",
       "      <td>46.057255</td>\n",
       "      <td>5.201666</td>\n",
       "      <td>5.277583</td>\n",
       "      <td>...</td>\n",
       "      <td>9.407186</td>\n",
       "      <td>7.846370</td>\n",
       "      <td>6.105076</td>\n",
       "      <td>2209.473029</td>\n",
       "      <td>19.305272</td>\n",
       "      <td>2.534925</td>\n",
       "      <td>3.619381</td>\n",
       "      <td>1514.326555</td>\n",
       "      <td>247.083035</td>\n",
       "      <td>27.738109</td>\n",
       "    </tr>\n",
       "    <tr>\n",
       "      <th>min</th>\n",
       "      <td>6.000000</td>\n",
       "      <td>3.000000</td>\n",
       "      <td>211.100000</td>\n",
       "      <td>22640.000000</td>\n",
       "      <td>8.270000e+02</td>\n",
       "      <td>3.200000</td>\n",
       "      <td>0.000000</td>\n",
       "      <td>22.300000</td>\n",
       "      <td>22.400000</td>\n",
       "      <td>22.300000</td>\n",
       "      <td>...</td>\n",
       "      <td>13.500000</td>\n",
       "      <td>11.800000</td>\n",
       "      <td>2.600000</td>\n",
       "      <td>10.199155</td>\n",
       "      <td>0.000000</td>\n",
       "      <td>0.000000</td>\n",
       "      <td>0.000000</td>\n",
       "      <td>22.992490</td>\n",
       "      <td>0.000000</td>\n",
       "      <td>59.700000</td>\n",
       "    </tr>\n",
       "    <tr>\n",
       "      <th>25%</th>\n",
       "      <td>76.000000</td>\n",
       "      <td>28.000000</td>\n",
       "      <td>420.425000</td>\n",
       "      <td>38750.500000</td>\n",
       "      <td>1.166025e+04</td>\n",
       "      <td>12.200000</td>\n",
       "      <td>0.000000</td>\n",
       "      <td>37.800000</td>\n",
       "      <td>36.400000</td>\n",
       "      <td>39.100000</td>\n",
       "      <td>...</td>\n",
       "      <td>34.300000</td>\n",
       "      <td>31.100000</td>\n",
       "      <td>15.000000</td>\n",
       "      <td>77.341176</td>\n",
       "      <td>0.634163</td>\n",
       "      <td>0.256324</td>\n",
       "      <td>0.296088</td>\n",
       "      <td>47.729903</td>\n",
       "      <td>4.527412</td>\n",
       "      <td>161.400000</td>\n",
       "    </tr>\n",
       "    <tr>\n",
       "      <th>50%</th>\n",
       "      <td>173.000000</td>\n",
       "      <td>61.000000</td>\n",
       "      <td>453.549422</td>\n",
       "      <td>45080.000000</td>\n",
       "      <td>2.671000e+04</td>\n",
       "      <td>15.900000</td>\n",
       "      <td>0.000000</td>\n",
       "      <td>41.000000</td>\n",
       "      <td>39.550000</td>\n",
       "      <td>42.400000</td>\n",
       "      <td>...</td>\n",
       "      <td>41.100000</td>\n",
       "      <td>36.400000</td>\n",
       "      <td>18.800000</td>\n",
       "      <td>89.977678</td>\n",
       "      <td>2.334870</td>\n",
       "      <td>0.544608</td>\n",
       "      <td>0.833393</td>\n",
       "      <td>51.658791</td>\n",
       "      <td>5.382090</td>\n",
       "      <td>178.300000</td>\n",
       "    </tr>\n",
       "    <tr>\n",
       "      <th>75%</th>\n",
       "      <td>532.750000</td>\n",
       "      <td>151.000000</td>\n",
       "      <td>480.800000</td>\n",
       "      <td>52386.500000</td>\n",
       "      <td>6.952450e+04</td>\n",
       "      <td>20.400000</td>\n",
       "      <td>87.228018</td>\n",
       "      <td>44.100000</td>\n",
       "      <td>42.600000</td>\n",
       "      <td>45.400000</td>\n",
       "      <td>...</td>\n",
       "      <td>47.400000</td>\n",
       "      <td>41.600000</td>\n",
       "      <td>23.100000</td>\n",
       "      <td>95.409287</td>\n",
       "      <td>10.746240</td>\n",
       "      <td>1.225619</td>\n",
       "      <td>2.219736</td>\n",
       "      <td>55.387885</td>\n",
       "      <td>6.529063</td>\n",
       "      <td>195.100000</td>\n",
       "    </tr>\n",
       "    <tr>\n",
       "      <th>max</th>\n",
       "      <td>38150.000000</td>\n",
       "      <td>14010.000000</td>\n",
       "      <td>1206.900000</td>\n",
       "      <td>125635.000000</td>\n",
       "      <td>1.017029e+07</td>\n",
       "      <td>47.400000</td>\n",
       "      <td>9762.308998</td>\n",
       "      <td>624.000000</td>\n",
       "      <td>64.700000</td>\n",
       "      <td>65.700000</td>\n",
       "      <td>...</td>\n",
       "      <td>70.700000</td>\n",
       "      <td>65.100000</td>\n",
       "      <td>46.600000</td>\n",
       "      <td>97625.000000</td>\n",
       "      <td>675.000000</td>\n",
       "      <td>42.619425</td>\n",
       "      <td>41.930251</td>\n",
       "      <td>57275.000000</td>\n",
       "      <td>9375.000000</td>\n",
       "      <td>362.800000</td>\n",
       "    </tr>\n",
       "  </tbody>\n",
       "</table>\n",
       "<p>8 rows × 32 columns</p>\n",
       "</div>"
      ]
     },
     "execution_count": 31,
     "metadata": {},
     "output_type": "execute_result"
    }
   ],
   "execution_count": 31
  },
  {
   "metadata": {},
   "cell_type": "markdown",
   "source": "## Limpeza dos Dados"
  },
  {
   "metadata": {},
   "cell_type": "markdown",
   "source": "Remover colunas desnecessárias"
  },
  {
   "metadata": {
    "ExecuteTime": {
     "end_time": "2025-03-20T19:24:28.130276Z",
     "start_time": "2025-03-20T19:24:28.124292Z"
    }
   },
   "cell_type": "code",
   "source": [
    "columns_to_remove = [\n",
    "    'binnedinc', # Já temos medianIncome, então essa versão agrupada não é necessária\n",
    "    'medianagemale', 'medianagefemale', # Temos a MedianAge, então essas colunas não são necessárias\n",
    "    'geography', # Não impacta na mortalidade\n",
    "    'avgdeathsperyear', # Inbutido na target_deathrate\n",
    "    'avganncount', # Refletido em incidenceRate\n",
    "]\n",
    "\n",
    "dataset_train = dataset_train.drop(columns=columns_to_remove)\n",
    "dataset_test = dataset_test.drop(columns=columns_to_remove)"
   ],
   "outputs": [],
   "execution_count": 116
  },
  {
   "metadata": {},
   "cell_type": "markdown",
   "source": "Remover valores nulos"
  },
  {
   "metadata": {
    "ExecuteTime": {
     "end_time": "2025-03-20T19:24:29.996467Z",
     "start_time": "2025-03-20T19:24:29.985448Z"
    }
   },
   "cell_type": "code",
   "source": [
    "dataset_train = replace_null_values(dataset_train)\n",
    "dataset_test = replace_null_values(dataset_test)"
   ],
   "outputs": [],
   "execution_count": 117
  },
  {
   "metadata": {},
   "cell_type": "markdown",
   "source": "Identificar correlações com a variável alvo"
  },
  {
   "metadata": {
    "ExecuteTime": {
     "end_time": "2025-03-20T19:24:31.450638Z",
     "start_time": "2025-03-20T19:24:31.441232Z"
    }
   },
   "cell_type": "code",
   "source": [
    "correlations = dataset_train.corr()[\"target_deathrate\"].sort_values(ascending=False)\n",
    "\n",
    "correlations"
   ],
   "outputs": [
    {
     "data": {
      "text/plain": [
       "target_deathrate           1.000000\n",
       "incidencerate              0.459844\n",
       "pctpubliccoveragealone     0.451681\n",
       "povertypercent             0.432146\n",
       "pcths25_over               0.416191\n",
       "pctpubliccoverage          0.415156\n",
       "pctunemployed16_over       0.370567\n",
       "pcths18_24                 0.258339\n",
       "pctblack                   0.212680\n",
       "pctnohs18_24               0.084285\n",
       "pctwhite                   0.014102\n",
       "medianage                  0.011176\n",
       "avghouseholdsize          -0.000752\n",
       "studypercap               -0.021208\n",
       "birthrate                 -0.025958\n",
       "pctmarriedhouseholds      -0.029088\n",
       "pctsomecol18_24           -0.080473\n",
       "popest2015                -0.116688\n",
       "pctotherrace              -0.192890\n",
       "pctasian                  -0.198644\n",
       "percentmarried            -0.264329\n",
       "pctempprivcoverage        -0.273845\n",
       "pctbachdeg18_24           -0.294621\n",
       "pctprivatecoveragealone   -0.333008\n",
       "pctprivatecoverage        -0.385310\n",
       "pctemployed16_over        -0.405168\n",
       "medincome                 -0.437025\n",
       "pctbachdeg25_over         -0.492374\n",
       "Name: target_deathrate, dtype: float64"
      ]
     },
     "execution_count": 118,
     "metadata": {},
     "output_type": "execute_result"
    }
   ],
   "execution_count": 118
  },
  {
   "metadata": {},
   "cell_type": "markdown",
   "source": "Remover valores que possuem correlação baixa com a variável alvo"
  },
  {
   "metadata": {
    "ExecuteTime": {
     "end_time": "2025-03-20T19:24:33.717529Z",
     "start_time": "2025-03-20T19:24:33.711913Z"
    }
   },
   "cell_type": "code",
   "source": [
    "low_correlation_columns = correlations[abs(correlations) <= 0.2].index\n",
    "\n",
    "dataset_train = dataset_train.drop(columns=low_correlation_columns)\n",
    "dataset_test = dataset_test.drop(columns=low_correlation_columns)"
   ],
   "outputs": [],
   "execution_count": 119
  },
  {
   "metadata": {},
   "cell_type": "markdown",
   "source": "## Treinar modelo"
  },
  {
   "metadata": {
    "ExecuteTime": {
     "end_time": "2025-03-20T19:24:35.583610Z",
     "start_time": "2025-03-20T19:24:35.578586Z"
    }
   },
   "cell_type": "code",
   "source": [
    "X_train = dataset_train.drop(columns=[\"target_deathrate\"])\n",
    "y_train = dataset_train[\"target_deathrate\"]\n",
    "\n",
    "X_test = dataset_test.drop(columns=[\"target_deathrate\"], errors=\"ignore\")"
   ],
   "outputs": [],
   "execution_count": 120
  },
  {
   "metadata": {
    "ExecuteTime": {
     "end_time": "2025-03-20T19:24:36.894444Z",
     "start_time": "2025-03-20T19:24:36.886543Z"
    }
   },
   "cell_type": "code",
   "source": [
    "scaler = StandardScaler()\n",
    "\n",
    "X_train_scaled = scaler.fit_transform(X_train)\n",
    "X_test_scaled = scaler.transform(X_test)"
   ],
   "outputs": [],
   "execution_count": 121
  },
  {
   "metadata": {
    "ExecuteTime": {
     "end_time": "2025-03-20T19:24:38.220085Z",
     "start_time": "2025-03-20T19:24:38.212570Z"
    }
   },
   "cell_type": "code",
   "source": [
    "linear_reg = LinearRegression()\n",
    "linear_reg.fit(X_train_scaled, y_train)\n",
    "y_pred_linear = linear_reg.predict(X_test_scaled)"
   ],
   "outputs": [],
   "execution_count": 122
  },
  {
   "metadata": {
    "ExecuteTime": {
     "end_time": "2025-03-20T19:24:39.819181Z",
     "start_time": "2025-03-20T19:24:39.810531Z"
    }
   },
   "cell_type": "code",
   "source": [
    "sgd_regressor = SGDRegressor(max_iter=1000, tol=1e-3, random_state=42)\n",
    "sgd_regressor.fit(X_train_scaled, y_train)\n",
    "y_pred_sgd = sgd_regressor.predict(X_test_scaled)"
   ],
   "outputs": [],
   "execution_count": 123
  },
  {
   "metadata": {
    "ExecuteTime": {
     "end_time": "2025-03-20T19:28:14.573705Z",
     "start_time": "2025-03-20T19:28:14.565682Z"
    }
   },
   "cell_type": "code",
   "source": [
    "results_linear = evaluate_model(linear_reg, X_train_scaled, y_train)\n",
    "results_sgd = evaluate_model(sgd_regressor, X_train_scaled, y_train)\n",
    "\n",
    "print(results_linear)\n",
    "print(results_sgd)"
   ],
   "outputs": [
    {
     "name": "stdout",
     "output_type": "stream",
     "text": [
      "{'MAE': 14.607556917908282, 'MSE': 380.58080150885854, 'R²': 0.505175062759714}\n",
      "{'MAE': 14.623344787627328, 'MSE': 381.099387716137, 'R²': 0.504500805449695}\n"
     ]
    },
    {
     "data": {
      "text/plain": [
       "(None, None)"
      ]
     },
     "execution_count": 130,
     "metadata": {},
     "output_type": "execute_result"
    }
   ],
   "execution_count": 130
  },
  {
   "cell_type": "markdown",
   "metadata": {
    "id": "5d495CmpCltx"
   },
   "source": [
    "## Atividades\n",
    "\n",
    "1. (5 pontos) Realize a Regressão Linear. Você deve implementar alguma solução e compará-la com o sklearn.linear_model.SGDRegressor (modelo linear ajustado minimizando uma perda empírica regularizada com SGD, http://scikit-learn.org).\n",
    "\n",
    "**Nota: Alguns fatores a considerar: Existem outliers? Há valores faltantes? Como você lidará com variáveis categóricas?**"
   ]
  },
  {
   "cell_type": "code",
   "source": [],
   "metadata": {
    "id": "64qT-FZbj_vn"
   },
   "execution_count": null,
   "outputs": []
  },
  {
   "cell_type": "markdown",
   "metadata": {
    "id": "zBNZQNImKQeo"
   },
   "source": [
    "## Conclusões Atividade 1\n",
    "\n",
    "Quais são as conclusões? (1-2 parágrafos)\n",
    "\n",
    "\n"
   ]
  },
  {
   "cell_type": "markdown",
   "source": [
    "*Coloque sua resposta aqui ...*"
   ],
   "metadata": {
    "id": "OvxjHZJFf_ok"
   }
  },
  {
   "cell_type": "markdown",
   "metadata": {
    "id": "ADxPBRhuK_Vq"
   },
   "source": [
    "2. (2 pontos) Utilize 3 diferentes taxas de aprendizado de Gradiente Descendente (GD) ao otimizar. Compare as soluções baseadas em GD com a Equação Normal. Quais são as conclusões?\n"
   ]
  },
  {
   "cell_type": "markdown",
   "metadata": {
    "id": "XrPl7jKgJPW6"
   },
   "source": [
    "3. (3 pontos) Às vezes, precisamos de uma função mais complexa para fazer boas previsões. Elabore e avalie um modelo de Regressão Linear Polinomial.\n"
   ]
  },
  {
   "cell_type": "markdown",
   "metadata": {
    "id": "BYuHHX8BNQEc"
   },
   "source": [
    "## Conclusões Atividades 2 e 3"
   ]
  },
  {
   "cell_type": "markdown",
   "metadata": {
    "id": "rBLKtosaLaCw"
   },
   "source": [
    "Quais são as conclusões? (1-2 parágrafos)\n"
   ]
  },
  {
   "cell_type": "markdown",
   "source": [
    "*Coloque sua resposta aqui ...*"
   ],
   "metadata": {
    "id": "VkLc_9UohqqC"
   }
  },
  {
   "cell_type": "markdown",
   "metadata": {
    "id": "OF8VNewLtU1X"
   },
   "source": [
    "## Resultados com o Conjunto de Dados de Teste\n"
   ]
  },
  {
   "cell_type": "code",
   "source": [
    "# seu codigo"
   ],
   "metadata": {
    "id": "SdyR35D6iOSX"
   },
   "execution_count": null,
   "outputs": []
  },
  {
   "cell_type": "code",
   "metadata": {
    "id": "yxsa1Y2muT6a"
   },
   "source": [
    "# Linear Model with SDGRegressor\n"
   ],
   "execution_count": null,
   "outputs": []
  },
  {
   "cell_type": "code",
   "metadata": {
    "id": "P4HF1P5juUFR"
   },
   "source": [
    "# Polynomial model with SDGRegressor\n"
   ],
   "execution_count": null,
   "outputs": []
  },
  {
   "cell_type": "markdown",
   "metadata": {
    "id": "kdSGS4brHnAi"
   },
   "source": [
    "## Prazo\n",
    "\n",
    "Terça-feira, 01 de abril, às 23h59.\n",
    "\n",
    "Política de penalização para envio atrasado: Não é encorajado o envio de sua tarefa após a data de vencimento. No entanto, caso você o faça, sua nota será penalizada da seguinte forma:\n",
    "\n",
    "02 de abril, 23h59: nota * 0,75\n",
    "03 de abril, 23h59: nota * 0,5\n",
    "04 de abril, 23h59: nota * 0,25\n",
    "Após: nota * 0\n"
   ]
  },
  {
   "cell_type": "markdown",
   "metadata": {
    "id": "joN9pvZJIfW5"
   },
   "source": [
    "## Envio\n",
    "\n",
    "Por e-mail adson.alves@facens.br, envie seu Notebook.\n",
    "\n",
    "Esta atividade é individual."
   ]
  }
 ]
}
