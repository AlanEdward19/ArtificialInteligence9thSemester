{
 "cells": [
  {
   "cell_type": "markdown",
   "metadata": {
    "id": "rioxSNq4tx90"
   },
   "source": [
    "**Exercícios de Aprendizado Supervisionado**"
   ]
  },
  {
   "cell_type": "code",
   "metadata": {
    "id": "z_pCNJS5t0lV",
    "ExecuteTime": {
     "end_time": "2025-03-15T01:29:10.695547Z",
     "start_time": "2025-03-15T01:29:10.491772Z"
    }
   },
   "source": [
    "#Importando bibliotecas necessárias\n",
    "\n",
    "import pandas as pd\n",
    "import matplotlib.pyplot as plt\n",
    "import numpy as np\n",
    "\n",
    "from sklearn.model_selection import train_test_split\n",
    "from sklearn.preprocessing import LabelEncoder\n",
    "\n",
    "from sklearn.neighbors import KNeighborsClassifier\n",
    "from sklearn.tree import DecisionTreeClassifier, plot_tree\n",
    "from sklearn.tree import export_text\n",
    "\n",
    "from sklearn.metrics import accuracy_score, confusion_matrix, ConfusionMatrixDisplay,precision_score\n"
   ],
   "outputs": [
    {
     "ename": "ModuleNotFoundError",
     "evalue": "No module named 'pandas'",
     "output_type": "error",
     "traceback": [
      "\u001B[31m---------------------------------------------------------------------------\u001B[39m",
      "\u001B[31mModuleNotFoundError\u001B[39m                       Traceback (most recent call last)",
      "\u001B[36mCell\u001B[39m\u001B[36m \u001B[39m\u001B[32mIn[1]\u001B[39m\u001B[32m, line 3\u001B[39m\n\u001B[32m      1\u001B[39m \u001B[38;5;66;03m#Importando bibliotecas necessárias\u001B[39;00m\n\u001B[32m----> \u001B[39m\u001B[32m3\u001B[39m \u001B[38;5;28;01mimport\u001B[39;00m\u001B[38;5;250m \u001B[39m\u001B[34;01mpandas\u001B[39;00m\u001B[38;5;250m \u001B[39m\u001B[38;5;28;01mas\u001B[39;00m\u001B[38;5;250m \u001B[39m\u001B[34;01mpd\u001B[39;00m\n\u001B[32m      4\u001B[39m \u001B[38;5;28;01mimport\u001B[39;00m\u001B[38;5;250m \u001B[39m\u001B[34;01mmatplotlib\u001B[39;00m\u001B[34;01m.\u001B[39;00m\u001B[34;01mpyplot\u001B[39;00m\u001B[38;5;250m \u001B[39m\u001B[38;5;28;01mas\u001B[39;00m\u001B[38;5;250m \u001B[39m\u001B[34;01mplt\u001B[39;00m\n\u001B[32m      5\u001B[39m \u001B[38;5;28;01mimport\u001B[39;00m\u001B[38;5;250m \u001B[39m\u001B[34;01mnumpy\u001B[39;00m\u001B[38;5;250m \u001B[39m\u001B[38;5;28;01mas\u001B[39;00m\u001B[38;5;250m \u001B[39m\u001B[34;01mnp\u001B[39;00m\n",
      "\u001B[31mModuleNotFoundError\u001B[39m: No module named 'pandas'"
     ]
    }
   ],
   "execution_count": 1
  },
  {
   "cell_type": "markdown",
   "metadata": {
    "id": "X5mGZ5cQvFgE"
   },
   "source": [
    "**Download Dataset** - [Crop recommendation data](https://dataverse.harvard.edu/dataset.xhtml?persistentId=doi:10.7910/DVN/4GBWFV)"
   ]
  },
  {
   "cell_type": "markdown",
   "metadata": {
    "id": "62FH6kp73Iq7"
   },
   "source": [
    "O dataset **Crop Recommendation Data** contém um total de 1697 amostras, referente as características de solo e condições ambientais para o crescimento de diversas culturas.\n",
    "\n",
    "Os dados estão estruturados nas seguintes colunas:\n",
    "N (Nitrogênio): Quantidade de nitrogênio no solo.\n",
    "\n",
    "*   P (Fósforo): Quantidade de fósforo no solo\n",
    "*   K (Potássio): Quantidade de potássio no solo\n",
    "*   temperature (Temperatura): Temperatura ambiente em graus Celsius\n",
    "*   humidity (Umidade): Umidade relativa do ar em porcentagem\n",
    "ph: Valor de pH do solo\n",
    "*   rainfall (Precipitação): Quantidade de precipitação em mm\n",
    "*   label: A cultura recomendada para plantio, com base nas condições descritas\n"
   ]
  },
  {
   "cell_type": "markdown",
   "metadata": {
    "id": "1OrMHj953j9O"
   },
   "source": [
    "**Importante:** em *label*, temos os rótulos (classes) que representam diferentes culturas agrícolas: Rice (Arroz), Maize (Milho), Soyabeans (Soja), Beans (Feijão), Peas (Ervilhas), Groundnuts (Amendoins), Cowpeas (Feijão-caupi), Banana, Mango (Manga), Grapes (Uvas), Watermelon (Melancia), Apple (Maçã), Orange (Laranja), Cotton (Algodão) e Coffee (Café)"
   ]
  },
  {
   "cell_type": "markdown",
   "metadata": {
    "id": "KU3NaXf7vaav"
   },
   "source": [
    "**Exercício 1 – Leitura Dataset**"
   ]
  },
  {
   "cell_type": "markdown",
   "metadata": {
    "id": "zFjFqNNI2sxF"
   },
   "source": [
    "Realize a leitura dos dados e exiba as informações gerais do dataset\n",
    "\n",
    "Exiba quantas amostras existem por classe (label)\n"
   ]
  },
  {
   "cell_type": "code",
   "execution_count": null,
   "metadata": {
    "colab": {
     "base_uri": "https://localhost:8080/"
    },
    "id": "kpuZk7Wg5jHJ",
    "outputId": "28c94e92-f0cb-46f8-8355-fd223d58746a"
   },
   "outputs": [],
   "source": [
    "#Digite seu código aqui"
   ]
  },
  {
   "cell_type": "markdown",
   "metadata": {
    "id": "oA0HQOi51aJ8"
   },
   "source": [
    "**Exercício 2 – Preparação dos Dados, divisão treinamento e testes**"
   ]
  },
  {
   "cell_type": "markdown",
   "metadata": {
    "id": "mI8tI1xG22Q-"
   },
   "source": [
    "Realize a divisão dos dados em treinamento e testes"
   ]
  },
  {
   "cell_type": "code",
   "execution_count": null,
   "metadata": {
    "id": "stWixyDRtxjX"
   },
   "outputs": [],
   "source": [
    "#Digite seu código aqui"
   ]
  },
  {
   "cell_type": "markdown",
   "metadata": {
    "id": "GRlv9hCPvlkV"
   },
   "source": [
    "**Exercício 3 – Treinamento do Modelo (pode ser o K-NN ou Decision Tree)**"
   ]
  },
  {
   "cell_type": "markdown",
   "metadata": {
    "id": "-wzcJQY828n4"
   },
   "source": [
    "Escolha um algoritmo da biblioteca Scikit-learn que seja adequado para treinar um modelo de recomendação de plantio a partir das variaveis presentes no conjunto de dados."
   ]
  },
  {
   "cell_type": "markdown",
   "metadata": {
    "id": "gUDFejfyQiT2"
   },
   "source": [
    "**Utilizando Decision Tree**"
   ]
  },
  {
   "cell_type": "code",
   "execution_count": null,
   "metadata": {
    "id": "ZLFe-MEmugmm"
   },
   "outputs": [],
   "source": [
    "#Digite seu código aqui"
   ]
  },
  {
   "cell_type": "markdown",
   "metadata": {
    "id": "4RfyoCzHwHr7"
   },
   "source": [
    "**Exercício 4 – Avaliar o Modelo**"
   ]
  },
  {
   "cell_type": "markdown",
   "metadata": {
    "id": "81J_MmhR3BSn"
   },
   "source": [
    "Utilize a métrica adequada para avaliar o modelo a partir dos dados de treinamento"
   ]
  },
  {
   "cell_type": "code",
   "execution_count": null,
   "metadata": {
    "colab": {
     "base_uri": "https://localhost:8080/",
     "height": 491
    },
    "id": "FzT00bctwSQw",
    "outputId": "b8a8bb4c-9a81-4918-97d3-56bb23e8c65e"
   },
   "outputs": [],
   "source": []
  },
  {
   "cell_type": "code",
   "execution_count": null,
   "metadata": {
    "colab": {
     "base_uri": "https://localhost:8080/",
     "height": 675
    },
    "id": "oA0ZpGyRVjU4",
    "outputId": "3ac1137a-f98b-4d65-d954-2d0e98bddc39"
   },
   "outputs": [],
   "source": [
    "# Visualizar a árvore de decisão em forma de grafico\n"
   ]
  },
  {
   "cell_type": "code",
   "execution_count": null,
   "metadata": {
    "colab": {
     "base_uri": "https://localhost:8080/"
    },
    "id": "cfawvyQVVvvE",
    "outputId": "2c6e0928-fe02-45b7-c0fc-5136b3b47d85"
   },
   "outputs": [],
   "source": [
    "# Visualizar a árvore de decisão em forma de texto\n"
   ]
  }
 ],
 "metadata": {
  "colab": {
   "provenance": [],
   "toc_visible": true
  },
  "kernelspec": {
   "display_name": "Python 3 (ipykernel)",
   "name": "python3",
   "language": "python"
  },
  "language_info": {
   "name": "python"
  }
 },
 "nbformat": 4,
 "nbformat_minor": 0
}
